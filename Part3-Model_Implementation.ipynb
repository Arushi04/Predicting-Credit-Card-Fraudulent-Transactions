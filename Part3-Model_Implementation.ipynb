{
 "cells": [
  {
   "cell_type": "code",
   "execution_count": 9,
   "metadata": {},
   "outputs": [],
   "source": [
    "import pandas as pd\n",
    "from imblearn.over_sampling import SMOTE\n",
    "from sklearn.linear_model import LogisticRegression\n",
    "from sklearn.metrics import confusion_matrix\n",
    "from sklearn.metrics import classification_report, precision_score, recall_score, f1_score\n",
    "from sklearn.svm import SVC\n",
    "from sklearn.preprocessing import StandardScaler\n",
    "from sklearn.pipeline import Pipeline\n",
    "from sklearn.svm import LinearSVC\n",
    "\n",
    "import warnings\n",
    "warnings.filterwarnings('ignore')"
   ]
  },
  {
   "cell_type": "markdown",
   "metadata": {},
   "source": [
    "#### Loading Preprocessed data"
   ]
  },
  {
   "cell_type": "code",
   "execution_count": 2,
   "metadata": {},
   "outputs": [],
   "source": [
    "X_train = pd.read_csv(\"processed_train.csv\")\n",
    "X_test = pd.read_csv(\"processed_test.csv\")\n",
    "y_train = pd.read_csv(\"y_train.csv\")\n",
    "y_test = pd.read_csv(\"y_test.csv\")"
   ]
  },
  {
   "cell_type": "code",
   "execution_count": 3,
   "metadata": {},
   "outputs": [],
   "source": [
    "# Dropping additional column\n",
    "\n",
    "y_train = y_train.drop('Unnamed: 0', axis=1)\n",
    "y_test = y_test.drop('Unnamed: 0', axis=1)\n",
    "X_train = X_train.drop('Unnamed: 0', axis=1)\n",
    "X_test = X_test.drop('Unnamed: 0', axis=1)\n"
   ]
  },
  {
   "cell_type": "markdown",
   "metadata": {},
   "source": [
    "#### Model Evaluation Function"
   ]
  },
  {
   "cell_type": "code",
   "execution_count": 4,
   "metadata": {},
   "outputs": [],
   "source": [
    "# Model Evaluation\n",
    "\n",
    "def print_eval(y_pred, model):\n",
    "    print(\"Training Accuracy: \", model.score(X_train, y_train))\n",
    "    print(\"Testing Accuracy: \", model.score(X_test, y_test))\n",
    "    cm = confusion_matrix(y_test, y_pred)\n",
    "    print(cm)\n",
    "    \n",
    "    precision = precision_score(y_test, y_pred)\n",
    "    print('Precision: %.3f' % precision)\n",
    "    \n",
    "    recall = recall_score(y_test, y_pred)\n",
    "    print('Recall: %.3f' % recall)\n",
    "    \n",
    "    score = f1_score(y_test, y_pred)\n",
    "    print('F-Measure: %.3f' % score)\n",
    "    \n",
    "    #print(classification_report(y_test, y_pred))"
   ]
  },
  {
   "cell_type": "markdown",
   "metadata": {},
   "source": [
    "### Over Sampling data using SMOTE"
   ]
  },
  {
   "cell_type": "code",
   "execution_count": 5,
   "metadata": {},
   "outputs": [
    {
     "data": {
      "text/plain": [
       "is_fraud\n",
       "1           128963\n",
       "0           128963\n",
       "dtype: int64"
      ]
     },
     "execution_count": 5,
     "metadata": {},
     "output_type": "execute_result"
    }
   ],
   "source": [
    "# smote implementation\n",
    "\n",
    "smote = SMOTE(sampling_strategy = 'minority')\n",
    "X_sm, y_sm = smote.fit_sample(X_train, y_train)\n",
    "y_sm.value_counts()"
   ]
  },
  {
   "cell_type": "markdown",
   "metadata": {},
   "source": [
    "### Model Implementation:\n",
    "\n",
    ">1\tLogistic Regression   \n",
    "2\tSVM    \n",
    "3\tXGBoost    \n",
    "4\tRandom Forest   \n",
    "5\tArtificial Neural Network   \n",
    "6   Penalized-SVM "
   ]
  },
  {
   "cell_type": "markdown",
   "metadata": {},
   "source": [
    "### 1. Logistic Regression"
   ]
  },
  {
   "cell_type": "code",
   "execution_count": 6,
   "metadata": {},
   "outputs": [
    {
     "name": "stdout",
     "output_type": "stream",
     "text": [
      "Training Accuracy:  0.9495018046086929\n",
      "Testing Accuracy:  0.9508385517886706\n",
      "[[26320  1336]\n",
      " [   30   100]]\n",
      "Precision: 0.070\n",
      "Recall: 0.769\n",
      "F-Measure: 0.128\n"
     ]
    }
   ],
   "source": [
    "# training and predictions : Logistic Regression\n",
    "\n",
    "model_lr = LogisticRegression(random_state=42)\n",
    "model_lr.fit(X_sm, y_sm)\n",
    "y_pred_lr = model_lr.predict(X_test)\n",
    "\n",
    "print_eval(y_pred_lr, model_lr)"
   ]
  },
  {
   "cell_type": "markdown",
   "metadata": {},
   "source": [
    "### 2. SVM"
   ]
  },
  {
   "cell_type": "code",
   "execution_count": 10,
   "metadata": {},
   "outputs": [],
   "source": [
    "# training and predictions : SVM\n",
    "\n",
    "model_svm = Pipeline([\n",
    "        (\"scaler\", StandardScaler()),\n",
    "        (\"linear_svc\", LinearSVC(C=1, loss=\"hinge\", random_state=42)),\n",
    "    ])"
   ]
  },
  {
   "cell_type": "code",
   "execution_count": 11,
   "metadata": {},
   "outputs": [
    {
     "data": {
      "text/plain": [
       "Pipeline(steps=[('scaler', StandardScaler()),\n",
       "                ('linear_svc', LinearSVC(C=1, loss='hinge', random_state=42))])"
      ]
     },
     "execution_count": 11,
     "metadata": {},
     "output_type": "execute_result"
    }
   ],
   "source": [
    "model_svm.fit(X_sm, y_sm)"
   ]
  },
  {
   "cell_type": "code",
   "execution_count": 12,
   "metadata": {},
   "outputs": [],
   "source": [
    "y_pred_svm = model_svm.predict(X_test)"
   ]
  },
  {
   "cell_type": "code",
   "execution_count": 13,
   "metadata": {},
   "outputs": [
    {
     "name": "stdout",
     "output_type": "stream",
     "text": [
      "Training Accuracy:  0.9902751642656631\n",
      "Testing Accuracy:  0.9907507377816166\n",
      "[[27511   145]\n",
      " [  112    18]]\n",
      "Precision: 0.110\n",
      "Recall: 0.138\n",
      "F-Measure: 0.123\n"
     ]
    }
   ],
   "source": [
    "print_eval(y_pred_svm, model_svm)"
   ]
  },
  {
   "cell_type": "markdown",
   "metadata": {},
   "source": [
    "#### SVM tuning 1"
   ]
  },
  {
   "cell_type": "code",
   "execution_count": 15,
   "metadata": {},
   "outputs": [],
   "source": [
    "model_svm1 = Pipeline([\n",
    "        (\"scaler\", StandardScaler()),\n",
    "        (\"linear_svc\", LinearSVC(C=100, loss=\"hinge\", random_state=42)),\n",
    "    ])\n"
   ]
  },
  {
   "cell_type": "code",
   "execution_count": 16,
   "metadata": {},
   "outputs": [
    {
     "data": {
      "text/plain": [
       "Pipeline(steps=[('scaler', StandardScaler()),\n",
       "                ('linear_svc',\n",
       "                 LinearSVC(C=100, loss='hinge', random_state=42))])"
      ]
     },
     "execution_count": 16,
     "metadata": {},
     "output_type": "execute_result"
    }
   ],
   "source": [
    "model_svm1.fit(X_sm, y_sm)"
   ]
  },
  {
   "cell_type": "code",
   "execution_count": 17,
   "metadata": {},
   "outputs": [
    {
     "name": "stdout",
     "output_type": "stream",
     "text": [
      "Training Accuracy:  0.9763704229262424\n",
      "Testing Accuracy:  0.9778665515007557\n",
      "[[27154   502]\n",
      " [  113    17]]\n",
      "Precision: 0.033\n",
      "Recall: 0.131\n",
      "F-Measure: 0.052\n"
     ]
    }
   ],
   "source": [
    "y_pred_svm1 = model_svm1.predict(X_test)\n",
    "\n",
    "print_eval(y_pred_svm1, model_svm1)"
   ]
  },
  {
   "cell_type": "markdown",
   "metadata": {},
   "source": [
    "#### SVM tuning 2"
   ]
  },
  {
   "cell_type": "code",
   "execution_count": 19,
   "metadata": {},
   "outputs": [
    {
     "name": "stdout",
     "output_type": "stream",
     "text": [
      "Training Accuracy:  0.9990359996298238\n",
      "Testing Accuracy:  0.9936298855538761\n",
      "[[27598    58]\n",
      " [  119    11]]\n",
      "Precision: 0.159\n",
      "Recall: 0.085\n",
      "F-Measure: 0.111\n"
     ]
    }
   ],
   "source": [
    "model_svm_poly = Pipeline([\n",
    "        (\"scaler\", StandardScaler()),\n",
    "        (\"svm_clf\", SVC(kernel=\"poly\", degree=3, coef0=1, C=5))\n",
    "    ])\n",
    "\n",
    "model_svm_poly.fit(X_sm, y_sm)\n",
    "y_pred_svm_poly = model_svm_poly.predict(X_test)\n",
    "\n",
    "print_eval(y_pred_svm_poly, model_svm_poly)"
   ]
  },
  {
   "cell_type": "markdown",
   "metadata": {},
   "source": [
    "#### SVM Tuning 3"
   ]
  },
  {
   "cell_type": "code",
   "execution_count": null,
   "metadata": {},
   "outputs": [],
   "source": [
    "model_svm_rbf = Pipeline([\n",
    "        (\"scaler\", StandardScaler()),\n",
    "        (\"svm_clf\", SVC(kernel=\"rbf\", gamma=5, C=0.001))\n",
    "    ])\n",
    "\n",
    "model_svm_rbf.fit(X_sm, y_sm)\n",
    "y_pred_svm_rbf = model_svm_rbf.predict(X_test)\n",
    "\n",
    "print_eval(y_pred_svm_rbf, model_svm_rbf)"
   ]
  },
  {
   "cell_type": "markdown",
   "metadata": {},
   "source": [
    "### Results and Observations :\n",
    "\n",
    "|                                       | Precision     |   Recall      |    f1-score    | \n",
    "|---------------------------------------|---------------|---------------|----------------|\n",
    "|Logistic Regression                    |     0.070     |     0.769     |     0.128      | \n",
    "|SVM (Linear, c=1)                      |     0.110     |     0.138     |     0.123      | \n",
    "|SVM (Linear, c=100)                    |     0.033     |     0.131     |     0.052      | \n",
    "|SVM (Poly, c=5, degree=3)              |     0.159     |     0.085     |     0.111      |\n",
    "|SVM (RBF, c=.001, gamma=5)             |     0.033     |     0.131     |     0.052      |\n",
    "|Random Forest Classifier               |     1.00      |     0.00      |     1.00       |  \n",
    "|Decision Tree                          |     0.96      |     0.77      |     0.98       | \n",
    "|XG Boost                               |     0.93      |     0.95      |     0.96       |  \n",
    "|ANN                                    |     0.96      |     0.78      |     0.98       |  \n",
    "|Penalized SVM                          |     0.96      |     0.78      |     0.98       |  \n"
   ]
  },
  {
   "cell_type": "code",
   "execution_count": null,
   "metadata": {},
   "outputs": [],
   "source": [
    "\n",
    "scaler = StandardScaler()\n",
    "X_scaled = scaler.fit_transform(Xs)\n",
    "svm_clf.fit(X_scaled, ys)"
   ]
  }
 ],
 "metadata": {
  "kernelspec": {
   "display_name": "Python 3",
   "language": "python",
   "name": "python3"
  },
  "language_info": {
   "codemirror_mode": {
    "name": "ipython",
    "version": 3
   },
   "file_extension": ".py",
   "mimetype": "text/x-python",
   "name": "python",
   "nbconvert_exporter": "python",
   "pygments_lexer": "ipython3",
   "version": "3.7.7"
  }
 },
 "nbformat": 4,
 "nbformat_minor": 4
}
