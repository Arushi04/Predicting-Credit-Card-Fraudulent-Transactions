{
 "cells": [
  {
   "cell_type": "code",
   "execution_count": 19,
   "metadata": {},
   "outputs": [],
   "source": [
    "import pandas as pd\n",
    "from imblearn.over_sampling import SMOTE\n",
    "from sklearn.linear_model import LogisticRegression\n",
    "from sklearn.metrics import confusion_matrix\n",
    "from sklearn.metrics import classification_report, precision_score, recall_score, f1_score\n",
    "from sklearn.svm import SVC\n",
    "from sklearn.preprocessing import StandardScaler\n",
    "from sklearn.pipeline import Pipeline\n",
    "from sklearn.svm import LinearSVC\n",
    "from sklearn.ensemble import RandomForestClassifier\n",
    "from sklearn.neural_network import MLPClassifier\n",
    "from sklearn.tree import DecisionTreeClassifier\n",
    "from sklearn.ensemble import GradientBoostingClassifier\n",
    "\n",
    "import warnings\n",
    "warnings.filterwarnings('ignore')"
   ]
  },
  {
   "cell_type": "markdown",
   "metadata": {},
   "source": [
    "#### Loading Preprocessed data"
   ]
  },
  {
   "cell_type": "code",
   "execution_count": 20,
   "metadata": {},
   "outputs": [],
   "source": [
    "X_train = pd.read_csv(\"processed_train.csv\")\n",
    "X_test = pd.read_csv(\"processed_test.csv\")\n",
    "y_train = pd.read_csv(\"y_train.csv\")\n",
    "y_test = pd.read_csv(\"y_test.csv\")"
   ]
  },
  {
   "cell_type": "code",
   "execution_count": 21,
   "metadata": {},
   "outputs": [],
   "source": [
    "# Dropping additional column\n",
    "\n",
    "y_train = y_train.drop('Unnamed: 0', axis=1)\n",
    "y_test = y_test.drop('Unnamed: 0', axis=1)\n",
    "X_train = X_train.drop('Unnamed: 0', axis=1)\n",
    "X_test = X_test.drop('Unnamed: 0', axis=1)\n"
   ]
  },
  {
   "cell_type": "markdown",
   "metadata": {},
   "source": [
    "#### Model Evaluation Function"
   ]
  },
  {
   "cell_type": "code",
   "execution_count": 22,
   "metadata": {},
   "outputs": [],
   "source": [
    "# Model Evaluation\n",
    "\n",
    "def print_eval(y_pred, model):\n",
    "    print(\"Training Accuracy: \", model.score(X_train, y_train))\n",
    "    print(\"Testing Accuracy: \", model.score(X_test, y_test))\n",
    "    cm = confusion_matrix(y_test, y_pred)\n",
    "    print(cm)\n",
    "    \n",
    "    precision = precision_score(y_test, y_pred)\n",
    "    print('Precision: %.3f' % precision)\n",
    "    \n",
    "    recall = recall_score(y_test, y_pred)\n",
    "    print('Recall: %.3f' % recall)\n",
    "    \n",
    "    score = f1_score(y_test, y_pred)\n",
    "    print('F-Measure: %.3f' % score)\n",
    "    \n",
    "    print(classification_report(y_test, y_pred))"
   ]
  },
  {
   "cell_type": "markdown",
   "metadata": {},
   "source": [
    "### Over Sampling data using SMOTE"
   ]
  },
  {
   "cell_type": "code",
   "execution_count": 23,
   "metadata": {},
   "outputs": [
    {
     "data": {
      "text/plain": [
       "is_fraud\n",
       "1           128963\n",
       "0           128963\n",
       "dtype: int64"
      ]
     },
     "execution_count": 23,
     "metadata": {},
     "output_type": "execute_result"
    }
   ],
   "source": [
    "# smote implementation\n",
    "\n",
    "smote = SMOTE(sampling_strategy = 'minority')\n",
    "X_sm, y_sm = smote.fit_sample(X_train, y_train)\n",
    "y_sm.value_counts()"
   ]
  },
  {
   "cell_type": "markdown",
   "metadata": {},
   "source": [
    "### Model Implementation:\n",
    "\n",
    ">1\tLogistic Regression   \n",
    "2\tSVM    \n",
    "3\tXGBoost    \n",
    "4\tRandom Forest   \n",
    "5\tArtificial Neural Network   \n",
    "6   Penalized-SVM "
   ]
  },
  {
   "cell_type": "markdown",
   "metadata": {},
   "source": [
    "### 1. Logistic Regression"
   ]
  },
  {
   "cell_type": "code",
   "execution_count": 6,
   "metadata": {},
   "outputs": [
    {
     "name": "stdout",
     "output_type": "stream",
     "text": [
      "Training Accuracy:  0.949332140543542\n",
      "Testing Accuracy:  0.9506945944000575\n",
      "[[26316  1340]\n",
      " [   30   100]]\n",
      "Precision: 0.069\n",
      "Recall: 0.769\n",
      "F-Measure: 0.127\n",
      "              precision    recall  f1-score   support\n",
      "\n",
      "           0       1.00      0.95      0.97     27656\n",
      "           1       0.07      0.77      0.13       130\n",
      "\n",
      "    accuracy                           0.95     27786\n",
      "   macro avg       0.53      0.86      0.55     27786\n",
      "weighted avg       0.99      0.95      0.97     27786\n",
      "\n"
     ]
    }
   ],
   "source": [
    "# training and predictions : Logistic Regression\n",
    "\n",
    "model_lr = LogisticRegression(random_state=42)\n",
    "model_lr.fit(X_sm, y_sm)\n",
    "y_pred_lr = model_lr.predict(X_test)\n",
    "\n",
    "print_eval(y_pred_lr, model_lr)"
   ]
  },
  {
   "cell_type": "markdown",
   "metadata": {},
   "source": [
    "### 2. SVM"
   ]
  },
  {
   "cell_type": "markdown",
   "metadata": {},
   "source": [
    "#### 2.1 SVM with linear kernel and c=1"
   ]
  },
  {
   "cell_type": "code",
   "execution_count": 7,
   "metadata": {},
   "outputs": [
    {
     "name": "stdout",
     "output_type": "stream",
     "text": [
      "Training Accuracy:  0.9900360921738594\n",
      "Testing Accuracy:  0.9904268336572375\n",
      "[[27502   154]\n",
      " [  112    18]]\n",
      "Precision: 0.105\n",
      "Recall: 0.138\n",
      "F-Measure: 0.119\n",
      "              precision    recall  f1-score   support\n",
      "\n",
      "           0       1.00      0.99      1.00     27656\n",
      "           1       0.10      0.14      0.12       130\n",
      "\n",
      "    accuracy                           0.99     27786\n",
      "   macro avg       0.55      0.57      0.56     27786\n",
      "weighted avg       0.99      0.99      0.99     27786\n",
      "\n"
     ]
    }
   ],
   "source": [
    "# training and predictions : SVM\n",
    "\n",
    "model_svm = Pipeline([\n",
    "        (\"scaler\", StandardScaler()),\n",
    "        (\"linear_svc\", LinearSVC(C=1, loss=\"hinge\", random_state=42)),\n",
    "    ])\n",
    "\n",
    "model_svm.fit(X_sm, y_sm)\n",
    "\n",
    "y_pred_svm = model_svm.predict(X_test)\n",
    "print_eval(y_pred_svm, model_svm)"
   ]
  },
  {
   "cell_type": "markdown",
   "metadata": {},
   "source": [
    "#### 2.2 SVM with linear kernel and c=50"
   ]
  },
  {
   "cell_type": "code",
   "execution_count": 8,
   "metadata": {},
   "outputs": [
    {
     "name": "stdout",
     "output_type": "stream",
     "text": [
      "Training Accuracy:  0.9784063917080544\n",
      "Testing Accuracy:  0.9815374649103865\n",
      "[[27254   402]\n",
      " [  111    19]]\n",
      "Precision: 0.045\n",
      "Recall: 0.146\n",
      "F-Measure: 0.069\n",
      "              precision    recall  f1-score   support\n",
      "\n",
      "           0       1.00      0.99      0.99     27656\n",
      "           1       0.05      0.15      0.07       130\n",
      "\n",
      "    accuracy                           0.98     27786\n",
      "   macro avg       0.52      0.57      0.53     27786\n",
      "weighted avg       0.99      0.98      0.99     27786\n",
      "\n"
     ]
    }
   ],
   "source": [
    "model_svm1 = Pipeline([\n",
    "        (\"scaler\", StandardScaler()),\n",
    "        (\"linear_svc\", LinearSVC(C=50, loss=\"hinge\", random_state=42)),\n",
    "    ])\n",
    "\n",
    "model_svm1.fit(X_sm, y_sm)\n",
    "\n",
    "y_pred_svm1 = model_svm1.predict(X_test)\n",
    "\n",
    "print_eval(y_pred_svm1, model_svm1)"
   ]
  },
  {
   "cell_type": "markdown",
   "metadata": {},
   "source": [
    "#### 2.3 SVM with linear kernel, c=0.01"
   ]
  },
  {
   "cell_type": "code",
   "execution_count": 9,
   "metadata": {},
   "outputs": [
    {
     "name": "stdout",
     "output_type": "stream",
     "text": [
      "Training Accuracy:  0.9899281241323996\n",
      "Testing Accuracy:  0.9916144821132945\n",
      "[[27540   116]\n",
      " [  117    13]]\n",
      "Precision: 0.101\n",
      "Recall: 0.100\n",
      "F-Measure: 0.100\n",
      "              precision    recall  f1-score   support\n",
      "\n",
      "           0       1.00      1.00      1.00     27656\n",
      "           1       0.10      0.10      0.10       130\n",
      "\n",
      "    accuracy                           0.99     27786\n",
      "   macro avg       0.55      0.55      0.55     27786\n",
      "weighted avg       0.99      0.99      0.99     27786\n",
      "\n"
     ]
    }
   ],
   "source": [
    "model_svm2 = Pipeline([\n",
    "        (\"scaler\", StandardScaler()),\n",
    "        (\"linear_svc\", LinearSVC(C=0.001, loss=\"hinge\", random_state=42)),\n",
    "    ])\n",
    "\n",
    "model_svm2.fit(X_sm, y_sm)\n",
    "\n",
    "y_pred_svm2 = model_svm2.predict(X_test)\n",
    "\n",
    "print_eval(y_pred_svm2, model_svm2)"
   ]
  },
  {
   "cell_type": "markdown",
   "metadata": {},
   "source": [
    "#### 2.4 SVM with polynomial kernel, degree=2,  c=1 and coef=1"
   ]
  },
  {
   "cell_type": "code",
   "execution_count": 10,
   "metadata": {},
   "outputs": [
    {
     "name": "stdout",
     "output_type": "stream",
     "text": [
      "Training Accuracy:  0.9959203504334145\n",
      "Testing Accuracy:  0.9937378535953357\n",
      "[[27611    45]\n",
      " [  129     1]]\n",
      "Precision: 0.022\n",
      "Recall: 0.008\n",
      "F-Measure: 0.011\n",
      "              precision    recall  f1-score   support\n",
      "\n",
      "           0       1.00      1.00      1.00     27656\n",
      "           1       0.02      0.01      0.01       130\n",
      "\n",
      "    accuracy                           0.99     27786\n",
      "   macro avg       0.51      0.50      0.50     27786\n",
      "weighted avg       0.99      0.99      0.99     27786\n",
      "\n"
     ]
    }
   ],
   "source": [
    "model_svm_poly = Pipeline([\n",
    "        (\"scaler\", StandardScaler()),\n",
    "        (\"svm_clf\", SVC(kernel=\"poly\", degree=2, coef0=1, C=1))\n",
    "    ])\n",
    "\n",
    "model_svm_poly.fit(X_sm, y_sm)\n",
    "y_pred_svm_poly = model_svm_poly.predict(X_test)\n",
    "\n",
    "print_eval(y_pred_svm_poly, model_svm_poly)"
   ]
  },
  {
   "cell_type": "markdown",
   "metadata": {},
   "source": [
    "#### 2.5 SVM with polynomial kernel, degree=3, c=5, coef=1"
   ]
  },
  {
   "cell_type": "code",
   "execution_count": null,
   "metadata": {},
   "outputs": [],
   "source": [
    "model_svm_poly1 = Pipeline([\n",
    "        (\"scaler\", StandardScaler()),\n",
    "        (\"svm_clf\", SVC(kernel=\"poly\", degree=3, coef0=1, C=5))\n",
    "    ])\n",
    "\n",
    "model_svm_poly1.fit(X_sm, y_sm)\n",
    "y_pred_svm_poly1 = model_svm_poly1.predict(X_test)\n",
    "\n",
    "print_eval(y_pred_svm_poly1, model_svm_poly1)"
   ]
  },
  {
   "cell_type": "markdown",
   "metadata": {},
   "source": [
    "#### 2.6 SVM with RBF kernel, c=0.001 and gamma=5 (running for hours with no result)"
   ]
  },
  {
   "cell_type": "code",
   "execution_count": null,
   "metadata": {},
   "outputs": [],
   "source": [
    "model_svm_rbf = Pipeline([\n",
    "        (\"scaler\", StandardScaler()),\n",
    "        (\"svm_clf\", SVC(kernel=\"rbf\", gamma=5, C=0.001))\n",
    "    ])\n",
    "\n",
    "model_svm_rbf.fit(X_sm, y_sm)\n",
    "y_pred_svm_rbf = model_svm_rbf.predict(X_test)\n",
    "\n",
    "print_eval(y_pred_svm_rbf, model_svm_rbf)"
   ]
  },
  {
   "cell_type": "code",
   "execution_count": null,
   "metadata": {},
   "outputs": [],
   "source": []
  },
  {
   "cell_type": "markdown",
   "metadata": {},
   "source": [
    "### 3. Random Forest"
   ]
  },
  {
   "cell_type": "markdown",
   "metadata": {},
   "source": [
    "#### 3.1 Random Forest with n_estimators=100"
   ]
  },
  {
   "cell_type": "code",
   "execution_count": 14,
   "metadata": {},
   "outputs": [
    {
     "name": "stdout",
     "output_type": "stream",
     "text": [
      "Training Accuracy:  0.9821235771354536\n",
      "Testing Accuracy:  0.9884834089109623\n",
      "[[27386   270]\n",
      " [   50    80]]\n",
      "Precision: 0.229\n",
      "Recall: 0.615\n",
      "F-Measure: 0.333\n",
      "              precision    recall  f1-score   support\n",
      "\n",
      "           0       1.00      0.99      0.99     27656\n",
      "           1       0.23      0.62      0.33       130\n",
      "\n",
      "    accuracy                           0.99     27786\n",
      "   macro avg       0.61      0.80      0.66     27786\n",
      "weighted avg       0.99      0.99      0.99     27786\n",
      "\n"
     ]
    }
   ],
   "source": [
    "# training and predictions : random forest\n",
    "\n",
    "model_rf = RandomForestClassifier(n_estimators=150, random_state=42, max_leaf_nodes=16)\n",
    "model_rf.fit(X_sm, y_sm)\n",
    "y_pred_rf = model_rf.predict(X_test)\n",
    "\n",
    "print_eval(y_pred_rf, model_rf)"
   ]
  },
  {
   "cell_type": "code",
   "execution_count": 24,
   "metadata": {},
   "outputs": [
    {
     "name": "stdout",
     "output_type": "stream",
     "text": [
      "Training Accuracy:  1.0\n",
      "Testing Accuracy:  0.9956092996473044\n",
      "[[27652     4]\n",
      " [  118    12]]\n",
      "Precision: 0.750\n",
      "Recall: 0.092\n",
      "F-Measure: 0.164\n",
      "              precision    recall  f1-score   support\n",
      "\n",
      "           0       1.00      1.00      1.00     27656\n",
      "           1       0.75      0.09      0.16       130\n",
      "\n",
      "    accuracy                           1.00     27786\n",
      "   macro avg       0.87      0.55      0.58     27786\n",
      "weighted avg       0.99      1.00      0.99     27786\n",
      "\n"
     ]
    }
   ],
   "source": [
    "model_rf = RandomForestClassifier(n_estimators=150, random_state=42)\n",
    "model_rf.fit(X_sm, y_sm)\n",
    "y_pred_rf = model_rf.predict(X_test)\n",
    "\n",
    "print_eval(y_pred_rf, model_rf)"
   ]
  },
  {
   "cell_type": "markdown",
   "metadata": {},
   "source": [
    "#### 3.2 Random Forest with n_estimators=150, max_leaf_nodes=16"
   ]
  },
  {
   "cell_type": "code",
   "execution_count": 15,
   "metadata": {},
   "outputs": [
    {
     "name": "stdout",
     "output_type": "stream",
     "text": [
      "Training Accuracy:  0.9818305210229201\n",
      "Testing Accuracy:  0.988267472828043\n",
      "[[27381   275]\n",
      " [   51    79]]\n",
      "Precision: 0.223\n",
      "Recall: 0.608\n",
      "F-Measure: 0.326\n",
      "              precision    recall  f1-score   support\n",
      "\n",
      "           0       1.00      0.99      0.99     27656\n",
      "           1       0.22      0.61      0.33       130\n",
      "\n",
      "    accuracy                           0.99     27786\n",
      "   macro avg       0.61      0.80      0.66     27786\n",
      "weighted avg       0.99      0.99      0.99     27786\n",
      "\n"
     ]
    }
   ],
   "source": [
    "# training and predictions : random forest\n",
    "\n",
    "model_rf1 = RandomForestClassifier(n_estimators=150, max_leaf_nodes=16, random_state=42)\n",
    "model_rf1.fit(X_sm, y_sm)\n",
    "y_pred_rf1 = model_rf1.predict(X_test)\n",
    "\n",
    "print_eval(y_pred_rf1, model_rf1)"
   ]
  },
  {
   "cell_type": "markdown",
   "metadata": {},
   "source": [
    "#### 3.3 Random Forest with n_estimators=100, max_leaf_nodes=32"
   ]
  },
  {
   "cell_type": "code",
   "execution_count": 16,
   "metadata": {},
   "outputs": [
    {
     "name": "stdout",
     "output_type": "stream",
     "text": [
      "Training Accuracy:  0.9866659468797236\n",
      "Testing Accuracy:  0.9903908443100842\n",
      "[[27443   213]\n",
      " [   54    76]]\n",
      "Precision: 0.263\n",
      "Recall: 0.585\n",
      "F-Measure: 0.363\n",
      "              precision    recall  f1-score   support\n",
      "\n",
      "           0       1.00      0.99      1.00     27656\n",
      "           1       0.26      0.58      0.36       130\n",
      "\n",
      "    accuracy                           0.99     27786\n",
      "   macro avg       0.63      0.79      0.68     27786\n",
      "weighted avg       0.99      0.99      0.99     27786\n",
      "\n"
     ]
    }
   ],
   "source": [
    "# training and predictions : random forest\n",
    "\n",
    "model_rf2 = RandomForestClassifier(n_estimators=100, max_leaf_nodes=32, random_state=42)\n",
    "model_rf2.fit(X_sm, y_sm)\n",
    "y_pred_rf2 = model_rf2.predict(X_test)\n",
    "\n",
    "print_eval(y_pred_rf2, model_rf2)"
   ]
  },
  {
   "cell_type": "markdown",
   "metadata": {},
   "source": [
    "### 4. Decision Trees"
   ]
  },
  {
   "cell_type": "markdown",
   "metadata": {},
   "source": [
    "#### 4.1 Decision tree with full max depth"
   ]
  },
  {
   "cell_type": "code",
   "execution_count": 21,
   "metadata": {},
   "outputs": [
    {
     "name": "stdout",
     "output_type": "stream",
     "text": [
      "Training Accuracy:  1.0\n",
      "Testing Accuracy:  0.9925502051392787\n",
      "[[27530   126]\n",
      " [   81    49]]\n",
      "Precision: 0.280\n",
      "Recall: 0.377\n",
      "F-Measure: 0.321\n",
      "              precision    recall  f1-score   support\n",
      "\n",
      "           0       1.00      1.00      1.00     27656\n",
      "           1       0.28      0.38      0.32       130\n",
      "\n",
      "    accuracy                           0.99     27786\n",
      "   macro avg       0.64      0.69      0.66     27786\n",
      "weighted avg       0.99      0.99      0.99     27786\n",
      "\n"
     ]
    }
   ],
   "source": [
    "# training and predictions : decision tree\n",
    "\n",
    "model_dt = DecisionTreeClassifier(random_state=42)\n",
    "model_dt.fit(X_sm, y_sm)\n",
    "y_pred_dt = model_dt.predict(X_test)\n",
    "\n",
    "print_eval(y_pred_dt, model_dt)"
   ]
  },
  {
   "cell_type": "markdown",
   "metadata": {},
   "source": [
    "#### 4.2 Decision tree with max_depth=16"
   ]
  },
  {
   "cell_type": "code",
   "execution_count": 22,
   "metadata": {},
   "outputs": [
    {
     "name": "stdout",
     "output_type": "stream",
     "text": [
      "Training Accuracy:  0.980396088472098\n",
      "Testing Accuracy:  0.9789102425681998\n",
      "[[27101   555]\n",
      " [   31    99]]\n",
      "Precision: 0.151\n",
      "Recall: 0.762\n",
      "F-Measure: 0.253\n",
      "              precision    recall  f1-score   support\n",
      "\n",
      "           0       1.00      0.98      0.99     27656\n",
      "           1       0.15      0.76      0.25       130\n",
      "\n",
      "    accuracy                           0.98     27786\n",
      "   macro avg       0.58      0.87      0.62     27786\n",
      "weighted avg       0.99      0.98      0.99     27786\n",
      "\n"
     ]
    }
   ],
   "source": [
    "# training and predictions : decision tree\n",
    "\n",
    "model_dt1 = DecisionTreeClassifier(max_depth=16, random_state=42)\n",
    "model_dt1.fit(X_sm, y_sm)\n",
    "y_pred_dt1 = model_dt1.predict(X_test)\n",
    "\n",
    "print_eval(y_pred_dt1, model_dt1)"
   ]
  },
  {
   "cell_type": "markdown",
   "metadata": {},
   "source": [
    "### 5. Gradient Boosting"
   ]
  },
  {
   "cell_type": "code",
   "execution_count": 24,
   "metadata": {},
   "outputs": [
    {
     "name": "stdout",
     "output_type": "stream",
     "text": [
      "Training Accuracy:  0.983658265724774\n",
      "Testing Accuracy:  0.9885553876052688\n",
      "[[27376   280]\n",
      " [   38    92]]\n",
      "Precision: 0.247\n",
      "Recall: 0.708\n",
      "F-Measure: 0.367\n",
      "              precision    recall  f1-score   support\n",
      "\n",
      "           0       1.00      0.99      0.99     27656\n",
      "           1       0.25      0.71      0.37       130\n",
      "\n",
      "    accuracy                           0.99     27786\n",
      "   macro avg       0.62      0.85      0.68     27786\n",
      "weighted avg       1.00      0.99      0.99     27786\n",
      "\n"
     ]
    }
   ],
   "source": [
    "model_gb = GradientBoostingClassifier(random_state=0)\n",
    "model_gb.fit(X_sm, y_sm)\n",
    "\n",
    "y_pred_gb = model_gb.predict(X_test)\n",
    "\n",
    "print_eval(y_pred_gb, model_gb)\n"
   ]
  },
  {
   "cell_type": "markdown",
   "metadata": {},
   "source": [
    "### 6. ANN"
   ]
  },
  {
   "cell_type": "code",
   "execution_count": 19,
   "metadata": {},
   "outputs": [
    {
     "name": "stdout",
     "output_type": "stream",
     "text": [
      "Training Accuracy:  0.022696424715427092\n",
      "Testing Accuracy:  0.022025480457784494\n",
      "[[27609    47]\n",
      " [  124     6]]\n",
      "Precision: 0.113\n",
      "Recall: 0.046\n",
      "F-Measure: 0.066\n",
      "              precision    recall  f1-score   support\n",
      "\n",
      "           0       1.00      1.00      1.00     27656\n",
      "           1       0.11      0.05      0.07       130\n",
      "\n",
      "    accuracy                           0.99     27786\n",
      "   macro avg       0.55      0.52      0.53     27786\n",
      "weighted avg       0.99      0.99      0.99     27786\n",
      "\n"
     ]
    }
   ],
   "source": [
    "# Scaling the features\n",
    "scaler = StandardScaler()\n",
    "scaler.fit(X_sm)\n",
    "X_trans = scaler.transform(X_sm)\n",
    "X_trans_test = scaler.transform(X_test)\n",
    "\n",
    "# Applying model\n",
    "model_mlp = MLPClassifier(hidden_layer_sizes=(10, 10, 10), max_iter=1000)\n",
    "model_mlp.fit(X_trans, y_sm.values.ravel())\n",
    "\n",
    "y_pred_mlp = model_mlp.predict(X_trans_test)\n",
    "print_eval(y_pred_mlp, model_mlp)\n"
   ]
  },
  {
   "cell_type": "code",
   "execution_count": null,
   "metadata": {},
   "outputs": [],
   "source": [
    "# Scaling the features\n",
    "scaler = StandardScaler()\n",
    "scaler.fit(X_sm)\n",
    "X_trans = scaler.transform(X_sm)\n",
    "X_trans_test = scaler.transform(X_test)\n",
    "\n",
    "# Applying model\n",
    "model_mlp = MLPClassifier(hidden_layer_sizes=(10, 10, 10), max_iter=1000)\n",
    "model_mlp.fit(X_trans, y_sm.values.ravel())\n",
    "\n",
    "y_pred_mlp = model_mlp.predict(X_trans_test)\n",
    "print_eval(y_pred_mlp, model_mlp)\n"
   ]
  },
  {
   "cell_type": "markdown",
   "metadata": {},
   "source": [
    "### Results and Observations :\n",
    "\n",
    "|                                       | Precision     |   Recall      |    f1-score    | \n",
    "|---------------------------------------|---------------|---------------|----------------|\n",
    "|Logistic Regression                    |     0.07      |     0.77      |     0.13       | \n",
    "|SVM (Linear, c=1)                      |     0.10      |     0.14      |     0.12       | \n",
    "|SVM (Linear, c=50)                     |     0.05      |     0.15      |     0.07       | \n",
    "|SVM (Linear, c=0.001)                  |     0.10      |     0.10      |     0.10       | \n",
    "|SVM (Poly, c=1, degree=2)              |     0.02      |     0.01      |     0.01       |\n",
    "|SVM (Poly, c=5, degree=3)              |     0.159     |     0.085     |     0.111      |\n",
    "|SVM (RBF, c=.001, gamma=5)             |               |               |                |\n",
    "|Random Forest (n_est=100, max_node=16) |     0.23      |     0.62      |     0.33       | \n",
    "|Random Forest (n_est=100, max_node=32) |     0.26      |     0.58      |     0.36       | \n",
    "|Random Forest (n_est=150, max_node=16) |     0.22      |     0.61      |     0.33       |\n",
    "|Decision Tree (max_depth)              |     0.28      |     0.38      |     0.32       | \n",
    "|Decision Tree (max_depth=16)           |     0.15      |     0.76      |     0.25       |\n",
    "|Gradient Boost                         |     0.25      |     0.71      |     0.37       |  \n",
    "|ANN                                    |     0.11      |     0.05      |     0.07       |  \n",
    "|Penalized SVM                          |     0.96      |     0.78      |     0.98       |  \n"
   ]
  },
  {
   "cell_type": "code",
   "execution_count": null,
   "metadata": {},
   "outputs": [],
   "source": [
    "\n"
   ]
  }
 ],
 "metadata": {
  "kernelspec": {
   "display_name": "Python 3",
   "language": "python",
   "name": "python3"
  },
  "language_info": {
   "codemirror_mode": {
    "name": "ipython",
    "version": 3
   },
   "file_extension": ".py",
   "mimetype": "text/x-python",
   "name": "python",
   "nbconvert_exporter": "python",
   "pygments_lexer": "ipython3",
   "version": "3.7.7"
  }
 },
 "nbformat": 4,
 "nbformat_minor": 4
}
