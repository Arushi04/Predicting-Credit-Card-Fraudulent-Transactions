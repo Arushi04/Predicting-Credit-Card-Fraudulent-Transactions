{
 "cells": [
  {
   "cell_type": "code",
   "execution_count": 1,
   "metadata": {},
   "outputs": [],
   "source": [
    "import pandas as pd\n",
    "from imblearn.over_sampling import SMOTE\n",
    "from sklearn.linear_model import LogisticRegression\n",
    "from sklearn.metrics import confusion_matrix\n",
    "from sklearn.metrics import classification_report, precision_score, recall_score, f1_score\n",
    "from sklearn.svm import SVC\n",
    "from sklearn.preprocessing import StandardScaler\n",
    "from sklearn.pipeline import Pipeline\n",
    "from sklearn.svm import LinearSVC\n",
    "from sklearn.ensemble import RandomForestClassifier\n",
    "from sklearn.neural_network import MLPClassifier\n",
    "from sklearn.tree import DecisionTreeClassifier\n",
    "from sklearn.ensemble import GradientBoostingClassifier\n",
    "\n",
    "import warnings\n",
    "warnings.filterwarnings('ignore')"
   ]
  },
  {
   "cell_type": "markdown",
   "metadata": {},
   "source": [
    "#### Loading Preprocessed data"
   ]
  },
  {
   "cell_type": "code",
   "execution_count": 2,
   "metadata": {},
   "outputs": [],
   "source": [
    "X_train = pd.read_csv(\"processed_train.csv\")\n",
    "X_test = pd.read_csv(\"processed_test.csv\")\n",
    "y_train = pd.read_csv(\"y_train.csv\")\n",
    "y_test = pd.read_csv(\"y_test.csv\")"
   ]
  },
  {
   "cell_type": "code",
   "execution_count": 3,
   "metadata": {},
   "outputs": [],
   "source": [
    "# Dropping additional column\n",
    "\n",
    "X_sm = X_train.drop('Unnamed: 0', axis=1)\n",
    "X_test = X_test.drop('Unnamed: 0', axis=1)\n",
    "y_sm = y_train.drop('Unnamed: 0', axis=1)\n",
    "y_test = y_test.drop('Unnamed: 0', axis=1)\n",
    "\n"
   ]
  },
  {
   "cell_type": "markdown",
   "metadata": {},
   "source": [
    "#### Model Evaluation Function"
   ]
  },
  {
   "cell_type": "code",
   "execution_count": 4,
   "metadata": {},
   "outputs": [],
   "source": [
    "# Model Evaluation\n",
    "\n",
    "def print_eval(y_pred, model):\n",
    "    print(\"Training Accuracy: \", model.score(X_sm, y_sm))\n",
    "    print(\"Testing Accuracy: \", model.score(X_test, y_test))\n",
    "    cm = confusion_matrix(y_test, y_pred)\n",
    "    print(cm)\n",
    "    \n",
    "    precision = precision_score(y_test, y_pred)\n",
    "    print('Precision: %.3f' % precision)\n",
    "    \n",
    "    recall = recall_score(y_test, y_pred)\n",
    "    print('Recall: %.3f' % recall)\n",
    "    \n",
    "    score = f1_score(y_test, y_pred)\n",
    "    print('F-Measure: %.3f' % score)\n",
    "    \n",
    "    print(classification_report(y_test, y_pred))"
   ]
  },
  {
   "cell_type": "markdown",
   "metadata": {},
   "source": [
    "### Model Implementation:\n",
    "\n",
    ">1\tLogistic Regression   \n",
    "2\tSVM    \n",
    "3\tRandom Forest   \n",
    "4\tDecision Tree  \n",
    "5   Gradient Boosting\n",
    "6\tArtificial Neural Network   \n",
    "7   Penalized-SVM "
   ]
  },
  {
   "cell_type": "markdown",
   "metadata": {},
   "source": [
    "### 1. Logistic Regression"
   ]
  },
  {
   "cell_type": "code",
   "execution_count": 5,
   "metadata": {},
   "outputs": [
    {
     "name": "stdout",
     "output_type": "stream",
     "text": [
      "Training Accuracy:  0.9940231977049079\n",
      "Testing Accuracy:  0.9947095659684734\n",
      "[[27639    17]\n",
      " [  130     0]]\n",
      "Precision: 0.000\n",
      "Recall: 0.000\n",
      "F-Measure: 0.000\n",
      "              precision    recall  f1-score   support\n",
      "\n",
      "           0       1.00      1.00      1.00     27656\n",
      "           1       0.00      0.00      0.00       130\n",
      "\n",
      "    accuracy                           0.99     27786\n",
      "   macro avg       0.50      0.50      0.50     27786\n",
      "weighted avg       0.99      0.99      0.99     27786\n",
      "\n"
     ]
    }
   ],
   "source": [
    "# training and predictions : Logistic Regression\n",
    "\n",
    "model_lr = LogisticRegression(random_state=42)\n",
    "model_lr.fit(X_sm, y_sm)\n",
    "y_pred_lr = model_lr.predict(X_test)\n",
    "\n",
    "print_eval(y_pred_lr, model_lr)"
   ]
  },
  {
   "cell_type": "markdown",
   "metadata": {},
   "source": [
    "### 2. SVM"
   ]
  },
  {
   "cell_type": "markdown",
   "metadata": {},
   "source": [
    "#### 2.1 SVM with linear kernel and c=1"
   ]
  },
  {
   "cell_type": "code",
   "execution_count": 7,
   "metadata": {},
   "outputs": [
    {
     "name": "stdout",
     "output_type": "stream",
     "text": [
      "Training Accuracy:  0.9942622697967116\n",
      "Testing Accuracy:  0.9948535233570863\n",
      "[[27642    14]\n",
      " [  129     1]]\n",
      "Precision: 0.067\n",
      "Recall: 0.008\n",
      "F-Measure: 0.014\n",
      "              precision    recall  f1-score   support\n",
      "\n",
      "           0       1.00      1.00      1.00     27656\n",
      "           1       0.07      0.01      0.01       130\n",
      "\n",
      "    accuracy                           0.99     27786\n",
      "   macro avg       0.53      0.50      0.51     27786\n",
      "weighted avg       0.99      0.99      0.99     27786\n",
      "\n"
     ]
    }
   ],
   "source": [
    "# training and predictions : SVM\n",
    "\n",
    "model_svm = Pipeline([\n",
    "        (\"scaler\", StandardScaler()),\n",
    "        (\"linear_svc\", LinearSVC(C=1, loss=\"hinge\", random_state=42)),\n",
    "    ])\n",
    "\n",
    "model_svm.fit(X_sm, y_sm)\n",
    "\n",
    "y_pred_svm = model_svm.predict(X_test)\n",
    "print_eval(y_pred_svm, model_svm)"
   ]
  },
  {
   "cell_type": "markdown",
   "metadata": {},
   "source": [
    "#### 2.2 SVM with linear kernel and c=50"
   ]
  },
  {
   "cell_type": "code",
   "execution_count": 8,
   "metadata": {},
   "outputs": [
    {
     "name": "stdout",
     "output_type": "stream",
     "text": [
      "Training Accuracy:  0.9890798038066446\n",
      "Testing Accuracy:  0.9886273662995754\n",
      "[[27470   186]\n",
      " [  130     0]]\n",
      "Precision: 0.000\n",
      "Recall: 0.000\n",
      "F-Measure: 0.000\n",
      "              precision    recall  f1-score   support\n",
      "\n",
      "           0       1.00      0.99      0.99     27656\n",
      "           1       0.00      0.00      0.00       130\n",
      "\n",
      "    accuracy                           0.99     27786\n",
      "   macro avg       0.50      0.50      0.50     27786\n",
      "weighted avg       0.99      0.99      0.99     27786\n",
      "\n"
     ]
    }
   ],
   "source": [
    "model_svm1 = Pipeline([\n",
    "        (\"scaler\", StandardScaler()),\n",
    "        (\"linear_svc\", LinearSVC(C=50, loss=\"hinge\", random_state=42)),\n",
    "    ])\n",
    "\n",
    "model_svm1.fit(X_sm, y_sm)\n",
    "\n",
    "y_pred_svm1 = model_svm1.predict(X_test)\n",
    "\n",
    "print_eval(y_pred_svm1, model_svm1)"
   ]
  },
  {
   "cell_type": "markdown",
   "metadata": {},
   "source": [
    "#### 2.3 SVM with linear kernel, c=0.01"
   ]
  },
  {
   "cell_type": "code",
   "execution_count": 9,
   "metadata": {},
   "outputs": [
    {
     "name": "stdout",
     "output_type": "stream",
     "text": [
      "Training Accuracy:  0.9947018539655119\n",
      "Testing Accuracy:  0.9953213848700785\n",
      "[[27656     0]\n",
      " [  130     0]]\n",
      "Precision: 0.000\n",
      "Recall: 0.000\n",
      "F-Measure: 0.000\n",
      "              precision    recall  f1-score   support\n",
      "\n",
      "           0       1.00      1.00      1.00     27656\n",
      "           1       0.00      0.00      0.00       130\n",
      "\n",
      "    accuracy                           1.00     27786\n",
      "   macro avg       0.50      0.50      0.50     27786\n",
      "weighted avg       0.99      1.00      0.99     27786\n",
      "\n"
     ]
    }
   ],
   "source": [
    "model_svm2 = Pipeline([\n",
    "        (\"scaler\", StandardScaler()),\n",
    "        (\"linear_svc\", LinearSVC(C=0.001, loss=\"hinge\", random_state=42)),\n",
    "    ])\n",
    "\n",
    "model_svm2.fit(X_sm, y_sm)\n",
    "\n",
    "y_pred_svm2 = model_svm2.predict(X_test)\n",
    "\n",
    "print_eval(y_pred_svm2, model_svm2)"
   ]
  },
  {
   "cell_type": "markdown",
   "metadata": {},
   "source": [
    "#### 2.4 SVM with polynomial kernel, degree=2,  c=1 and coef=1"
   ]
  },
  {
   "cell_type": "code",
   "execution_count": 10,
   "metadata": {},
   "outputs": [
    {
     "name": "stdout",
     "output_type": "stream",
     "text": [
      "Training Accuracy:  0.9961825585341024\n",
      "Testing Accuracy:  0.9955733103001512\n",
      "[[27650     6]\n",
      " [  117    13]]\n",
      "Precision: 0.684\n",
      "Recall: 0.100\n",
      "F-Measure: 0.174\n",
      "              precision    recall  f1-score   support\n",
      "\n",
      "           0       1.00      1.00      1.00     27656\n",
      "           1       0.68      0.10      0.17       130\n",
      "\n",
      "    accuracy                           1.00     27786\n",
      "   macro avg       0.84      0.55      0.59     27786\n",
      "weighted avg       0.99      1.00      0.99     27786\n",
      "\n"
     ]
    }
   ],
   "source": [
    "model_svm_poly = Pipeline([\n",
    "        (\"scaler\", StandardScaler()),\n",
    "        (\"svm_clf\", SVC(kernel=\"poly\", degree=2, coef0=1, C=1))\n",
    "    ])\n",
    "\n",
    "model_svm_poly.fit(X_sm, y_sm)\n",
    "y_pred_svm_poly = model_svm_poly.predict(X_test)\n",
    "\n",
    "print_eval(y_pred_svm_poly, model_svm_poly)"
   ]
  },
  {
   "cell_type": "markdown",
   "metadata": {},
   "source": [
    "#### 2.5 SVM with polynomial kernel, degree=3, c=5, coef=1"
   ]
  },
  {
   "cell_type": "code",
   "execution_count": 11,
   "metadata": {},
   "outputs": [
    {
     "name": "stdout",
     "output_type": "stream",
     "text": [
      "Training Accuracy:  0.9987043835024833\n",
      "Testing Accuracy:  0.995105448787159\n",
      "[[27618    38]\n",
      " [   98    32]]\n",
      "Precision: 0.457\n",
      "Recall: 0.246\n",
      "F-Measure: 0.320\n",
      "              precision    recall  f1-score   support\n",
      "\n",
      "           0       1.00      1.00      1.00     27656\n",
      "           1       0.46      0.25      0.32       130\n",
      "\n",
      "    accuracy                           1.00     27786\n",
      "   macro avg       0.73      0.62      0.66     27786\n",
      "weighted avg       0.99      1.00      0.99     27786\n",
      "\n"
     ]
    }
   ],
   "source": [
    "model_svm_poly1 = Pipeline([\n",
    "        (\"scaler\", StandardScaler()),\n",
    "        (\"svm_clf\", SVC(kernel=\"poly\", degree=3, coef0=1, C=5))\n",
    "    ])\n",
    "\n",
    "model_svm_poly1.fit(X_sm, y_sm)\n",
    "y_pred_svm_poly1 = model_svm_poly1.predict(X_test)\n",
    "\n",
    "print_eval(y_pred_svm_poly1, model_svm_poly1)"
   ]
  },
  {
   "cell_type": "markdown",
   "metadata": {},
   "source": [
    "#### 2.6 SVM with RBF kernel, c=0.001 and gamma=5 (running for hours with no result)"
   ]
  },
  {
   "cell_type": "code",
   "execution_count": null,
   "metadata": {},
   "outputs": [],
   "source": [
    "model_svm_rbf = Pipeline([\n",
    "        (\"scaler\", StandardScaler()),\n",
    "        (\"svm_clf\", SVC(kernel=\"rbf\", gamma=5, C=0.001))\n",
    "    ])\n",
    "\n",
    "model_svm_rbf.fit(X_sm, y_sm)\n",
    "y_pred_svm_rbf = model_svm_rbf.predict(X_test)\n",
    "\n",
    "print_eval(y_pred_svm_rbf, model_svm_rbf)"
   ]
  },
  {
   "cell_type": "code",
   "execution_count": null,
   "metadata": {},
   "outputs": [],
   "source": []
  },
  {
   "cell_type": "markdown",
   "metadata": {},
   "source": [
    "### 3. Random Forest"
   ]
  },
  {
   "cell_type": "markdown",
   "metadata": {},
   "source": [
    "#### 3.1 Random Forest with n_estimators=100, max_leaf_nodes=16"
   ]
  },
  {
   "cell_type": "code",
   "execution_count": 12,
   "metadata": {},
   "outputs": [
    {
     "name": "stdout",
     "output_type": "stream",
     "text": [
      "Training Accuracy:  0.9945630379122066\n",
      "Testing Accuracy:  0.9953213848700785\n",
      "[[27656     0]\n",
      " [  130     0]]\n",
      "Precision: 0.000\n",
      "Recall: 0.000\n",
      "F-Measure: 0.000\n",
      "              precision    recall  f1-score   support\n",
      "\n",
      "           0       1.00      1.00      1.00     27656\n",
      "           1       0.00      0.00      0.00       130\n",
      "\n",
      "    accuracy                           1.00     27786\n",
      "   macro avg       0.50      0.50      0.50     27786\n",
      "weighted avg       0.99      1.00      0.99     27786\n",
      "\n"
     ]
    }
   ],
   "source": [
    "# training and predictions : random forest\n",
    "\n",
    "model_rf = RandomForestClassifier(n_estimators=100, max_leaf_nodes=16, random_state=42)\n",
    "model_rf.fit(X_sm, y_sm)\n",
    "y_pred_rf = model_rf.predict(X_test)\n",
    "\n",
    "print_eval(y_pred_rf, model_rf)"
   ]
  },
  {
   "cell_type": "markdown",
   "metadata": {},
   "source": [
    "#### 3.2 Random Forest with n_estimators=150, max_leaf_nodes=16"
   ]
  },
  {
   "cell_type": "code",
   "execution_count": 13,
   "metadata": {},
   "outputs": [
    {
     "name": "stdout",
     "output_type": "stream",
     "text": [
      "Training Accuracy:  0.9945630379122066\n",
      "Testing Accuracy:  0.9953213848700785\n",
      "[[27656     0]\n",
      " [  130     0]]\n",
      "Precision: 0.000\n",
      "Recall: 0.000\n",
      "F-Measure: 0.000\n",
      "              precision    recall  f1-score   support\n",
      "\n",
      "           0       1.00      1.00      1.00     27656\n",
      "           1       0.00      0.00      0.00       130\n",
      "\n",
      "    accuracy                           1.00     27786\n",
      "   macro avg       0.50      0.50      0.50     27786\n",
      "weighted avg       0.99      1.00      0.99     27786\n",
      "\n"
     ]
    }
   ],
   "source": [
    "# training and predictions : random forest\n",
    "\n",
    "model_rf1 = RandomForestClassifier(n_estimators=150, max_leaf_nodes=16, random_state=42)\n",
    "model_rf1.fit(X_sm, y_sm)\n",
    "y_pred_rf1 = model_rf1.predict(X_test)\n",
    "\n",
    "print_eval(y_pred_rf1, model_rf1)"
   ]
  },
  {
   "cell_type": "markdown",
   "metadata": {},
   "source": [
    "#### 3.3 Random Forest with n_estimators=100, max_leaf_nodes=32"
   ]
  },
  {
   "cell_type": "code",
   "execution_count": 14,
   "metadata": {},
   "outputs": [
    {
     "name": "stdout",
     "output_type": "stream",
     "text": [
      "Training Accuracy:  0.9945784619181294\n",
      "Testing Accuracy:  0.9953213848700785\n",
      "[[27656     0]\n",
      " [  130     0]]\n",
      "Precision: 0.000\n",
      "Recall: 0.000\n",
      "F-Measure: 0.000\n",
      "              precision    recall  f1-score   support\n",
      "\n",
      "           0       1.00      1.00      1.00     27656\n",
      "           1       0.00      0.00      0.00       130\n",
      "\n",
      "    accuracy                           1.00     27786\n",
      "   macro avg       0.50      0.50      0.50     27786\n",
      "weighted avg       0.99      1.00      0.99     27786\n",
      "\n"
     ]
    }
   ],
   "source": [
    "# training and predictions : random forest\n",
    "\n",
    "model_rf2 = RandomForestClassifier(n_estimators=100, max_leaf_nodes=32, random_state=42)\n",
    "model_rf2.fit(X_sm, y_sm)\n",
    "y_pred_rf2 = model_rf2.predict(X_test)\n",
    "\n",
    "print_eval(y_pred_rf2, model_rf2)"
   ]
  },
  {
   "cell_type": "markdown",
   "metadata": {},
   "source": [
    "### 4. Decision Trees"
   ]
  },
  {
   "cell_type": "markdown",
   "metadata": {},
   "source": [
    "#### 4.1 Decision tree with full max depth"
   ]
  },
  {
   "cell_type": "code",
   "execution_count": 15,
   "metadata": {},
   "outputs": [
    {
     "name": "stdout",
     "output_type": "stream",
     "text": [
      "Training Accuracy:  1.0\n",
      "Testing Accuracy:  0.9966529907147484\n",
      "[[27610    46]\n",
      " [   47    83]]\n",
      "Precision: 0.643\n",
      "Recall: 0.638\n",
      "F-Measure: 0.641\n",
      "              precision    recall  f1-score   support\n",
      "\n",
      "           0       1.00      1.00      1.00     27656\n",
      "           1       0.64      0.64      0.64       130\n",
      "\n",
      "    accuracy                           1.00     27786\n",
      "   macro avg       0.82      0.82      0.82     27786\n",
      "weighted avg       1.00      1.00      1.00     27786\n",
      "\n"
     ]
    }
   ],
   "source": [
    "# training and predictions : decision tree\n",
    "\n",
    "model_dt = DecisionTreeClassifier(random_state=42)\n",
    "model_dt.fit(X_sm, y_sm)\n",
    "y_pred_dt = model_dt.predict(X_test)\n",
    "\n",
    "print_eval(y_pred_dt, model_dt)"
   ]
  },
  {
   "cell_type": "markdown",
   "metadata": {},
   "source": [
    "#### 4.2 Decision tree with max_depth=16"
   ]
  },
  {
   "cell_type": "code",
   "execution_count": 16,
   "metadata": {},
   "outputs": [
    {
     "name": "stdout",
     "output_type": "stream",
     "text": [
      "Training Accuracy:  0.9993059197334732\n",
      "Testing Accuracy:  0.9974447563521198\n",
      "[[27633    23]\n",
      " [   48    82]]\n",
      "Precision: 0.781\n",
      "Recall: 0.631\n",
      "F-Measure: 0.698\n",
      "              precision    recall  f1-score   support\n",
      "\n",
      "           0       1.00      1.00      1.00     27656\n",
      "           1       0.78      0.63      0.70       130\n",
      "\n",
      "    accuracy                           1.00     27786\n",
      "   macro avg       0.89      0.81      0.85     27786\n",
      "weighted avg       1.00      1.00      1.00     27786\n",
      "\n"
     ]
    }
   ],
   "source": [
    "# training and predictions : decision tree\n",
    "\n",
    "model_dt1 = DecisionTreeClassifier(max_depth=16, random_state=42)\n",
    "model_dt1.fit(X_sm, y_sm)\n",
    "y_pred_dt1 = model_dt1.predict(X_test)\n",
    "\n",
    "print_eval(y_pred_dt1, model_dt1)"
   ]
  },
  {
   "cell_type": "markdown",
   "metadata": {},
   "source": [
    "### 5. Gradient Boosting"
   ]
  },
  {
   "cell_type": "code",
   "execution_count": 17,
   "metadata": {},
   "outputs": [
    {
     "name": "stdout",
     "output_type": "stream",
     "text": [
      "Training Accuracy:  0.9967069747354783\n",
      "Testing Accuracy:  0.9969768948391277\n",
      "[[27628    28]\n",
      " [   56    74]]\n",
      "Precision: 0.725\n",
      "Recall: 0.569\n",
      "F-Measure: 0.638\n",
      "              precision    recall  f1-score   support\n",
      "\n",
      "           0       1.00      1.00      1.00     27656\n",
      "           1       0.73      0.57      0.64       130\n",
      "\n",
      "    accuracy                           1.00     27786\n",
      "   macro avg       0.86      0.78      0.82     27786\n",
      "weighted avg       1.00      1.00      1.00     27786\n",
      "\n"
     ]
    }
   ],
   "source": [
    "model_gb = GradientBoostingClassifier(random_state=0)\n",
    "model_gb.fit(X_sm, y_sm)\n",
    "\n",
    "y_pred_gb = model_gb.predict(X_test)\n",
    "\n",
    "print_eval(y_pred_gb, model_gb)\n"
   ]
  },
  {
   "cell_type": "markdown",
   "metadata": {},
   "source": [
    "### 6. ANN"
   ]
  },
  {
   "cell_type": "code",
   "execution_count": 18,
   "metadata": {},
   "outputs": [
    {
     "name": "stdout",
     "output_type": "stream",
     "text": [
      "Training Accuracy:  0.9815683129222321\n",
      "Testing Accuracy:  0.983085006837976\n",
      "[[27611    45]\n",
      " [  103    27]]\n",
      "Precision: 0.375\n",
      "Recall: 0.208\n",
      "F-Measure: 0.267\n",
      "              precision    recall  f1-score   support\n",
      "\n",
      "           0       1.00      1.00      1.00     27656\n",
      "           1       0.38      0.21      0.27       130\n",
      "\n",
      "    accuracy                           0.99     27786\n",
      "   macro avg       0.69      0.60      0.63     27786\n",
      "weighted avg       0.99      0.99      0.99     27786\n",
      "\n"
     ]
    }
   ],
   "source": [
    "# Scaling the features\n",
    "scaler = StandardScaler()\n",
    "scaler.fit(X_sm)\n",
    "X_trans = scaler.transform(X_sm)\n",
    "X_trans_test = scaler.transform(X_test)\n",
    "\n",
    "# Applying model\n",
    "model_mlp = MLPClassifier(hidden_layer_sizes=(10, 10, 10), max_iter=1000)\n",
    "model_mlp.fit(X_trans, y_sm.values.ravel())\n",
    "\n",
    "y_pred_mlp = model_mlp.predict(X_trans_test)\n",
    "print_eval(y_pred_mlp, model_mlp)\n"
   ]
  },
  {
   "cell_type": "markdown",
   "metadata": {},
   "source": [
    "### Results and Observations with handling Imbalance : Class 1(Fraud)\n",
    "\n",
    "|                                       | Precision     |   Recall      |    f1-score    | \n",
    "|---------------------------------------|---------------|---------------|----------------|\n",
    "|Logistic Regression                    |     0.00      |     0.00      |     0.00       | \n",
    "|SVM (Linear, c=1)                      |     0.07      |     0.01      |     0.01       | \n",
    "|SVM (Linear, c=50)                     |     0.00      |     0.00      |     0.00       | \n",
    "|SVM (Linear, c=0.001)                  |     0.00      |     0.00      |     0.00       | \n",
    "|SVM (Poly, c=1, degree=2)              |     0.68      |     0.10      |     0.17       |\n",
    "|SVM (Poly, c=5, degree=3)              |     0.46      |     0.25      |     0.32       |\n",
    "|SVM (RBF, c=.001, gamma=5)             |               |               |                |\n",
    "|Random Forest (n_est=100, max_node=16) |     0.00      |     0.00      |     0.00       | \n",
    "|Random Forest (n_est=100, max_node=32) |     0.00      |     0.00      |     0.00       | \n",
    "|Random Forest (n_est=150, max_node=16) |     0.00      |     0.00      |     0.00       |\n",
    "|Decision Tree (max_depth)              |     0.64      |     0.64      |     0.64       | \n",
    "|Decision Tree (max_depth=16)           |     0.78      |     0.63      |     0.70       |\n",
    "|Gradient Boost                         |     0.73      |     0.57      |     0.64       |  \n",
    "|ANN                                    |     0.38      |     0.21      |     0.27       |  \n",
    "|Penalized SVM                          |               |               |                |  \n"
   ]
  },
  {
   "cell_type": "code",
   "execution_count": null,
   "metadata": {},
   "outputs": [],
   "source": [
    "\n"
   ]
  }
 ],
 "metadata": {
  "kernelspec": {
   "display_name": "Python 3",
   "language": "python",
   "name": "python3"
  },
  "language_info": {
   "codemirror_mode": {
    "name": "ipython",
    "version": 3
   },
   "file_extension": ".py",
   "mimetype": "text/x-python",
   "name": "python",
   "nbconvert_exporter": "python",
   "pygments_lexer": "ipython3",
   "version": "3.7.7"
  }
 },
 "nbformat": 4,
 "nbformat_minor": 4
}
